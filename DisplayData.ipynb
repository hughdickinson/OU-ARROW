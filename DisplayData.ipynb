{
 "cells": [
  {
   "cell_type": "markdown",
   "metadata": {},
   "source": [
    "# Activity 5.1 Displaying your own data"
   ]
  },
  {
   "cell_type": "markdown",
   "metadata": {},
   "source": [
    "This notebook contains hints, tips and code snippets that you might find useful when completing Activity 5.1\n",
    "\n",
    "This is all about displaying a spectrum file, inspecting it to make sure it looks reasonable and perhaps making some preliminary measurements. This is a common way to start any scientific data analysis.\n",
    "\n",
    "This notebook demonstrates how to accomplish the following analysis steps:\n",
    "\n",
    "1. Prompt the user for a specrum file name\n",
    "2. Read in the spectral data using Pandas.\n",
    "3. Display the spectrum using either Matplotlib or Bokeh. Matplotlib is superficially easier but Bokeh will be more useful later on.\n",
    "4. Explore the displayed data\n",
    "\n",
    "> GENERAL HINT: Review the `UsingPandas` and `UsingBokeh` notebooks before you start\n"
   ]
  },
  {
   "cell_type": "markdown",
   "metadata": {},
   "source": [
    "## Step 0 - import the packages you need\n",
    "\n",
    "\n",
    "Don't forget to import the packages/modules you'll need. As this is the first time you've done this type of analysis, we'll handle this part for you. Just run the next code cell!\n"
   ]
  },
  {
   "cell_type": "code",
   "execution_count": null,
   "metadata": {},
   "outputs": [],
   "source": [
    "import pandas as pd\n",
    "from bokeh.plotting import figure, output_notebook, show\n",
    "from bokeh.models.tools import HoverTool"
   ]
  },
  {
   "cell_type": "markdown",
   "metadata": {},
   "source": [
    "## Step 1 and 2 - Get the data\n",
    "\n",
    "Generally, the ARROW spectral data files begin with 12 lines of header comments. After these, the next line contains the names of the data columns (`frequency` and `intensity`). The actual columns of data then follow on subsequent lines.\n",
    "\n",
    "We've set up some skeleton code that uses _Pandas_ to read this data and skip the header lines. You should complete the code and make sure it works as expected. Section 1 of the `UsingPandas` notebook  shows you how to do this.\n",
    "\n",
    "One way to check that your code is working would be to inspect the first few lines of data. In this example we show the first 4 lines.\n",
    "\n",
    "> **Note:** You'll need to complete the code in the next cell to make it work properly."
   ]
  },
  {
   "cell_type": "code",
   "execution_count": null,
   "metadata": {
    "scrolled": true
   },
   "outputs": [],
   "source": [
    "number_header_lines=12\n",
    "\n",
    "# Prompt for a spectrum file. Don't forget it must be in the same folder as the notebook\n",
    "file_name = input('Enter spectrum file name ')\n",
    "\n",
    "# Read in the data\n",
    "spectrum_df = pd.read_csv(\n",
    "    # Add your code here... (See UsingPandas section 1)\n",
    ")\n",
    "\n",
    "spectrum_df.head(4)"
   ]
  },
  {
   "cell_type": "markdown",
   "metadata": {},
   "source": [
    "Once completed, this will read the data into a _Pandas_ `DataFrame` with column names taken from the 13th line of the spectrum file. Remember that you can refer to a specific columns in a `DataFrame` using these column names. \n",
    "\n",
    "For example, if you had a `DataFrame` formed from the ARROW data called `df`, then `df['intensity']` could be used to access the column with `intensity` as its header.\n",
    "\n",
    "> In this case, using ARROW data as input, the columns are called `frequency` and `intensity`."
   ]
  },
  {
   "cell_type": "markdown",
   "metadata": {},
   "source": [
    "\n",
    "## Step 3 - Display the data \n",
    "### Step 3a - A simple plot of the data\n",
    "\n",
    "The techniques used in this section are covered in Section 2 of the `UsingBokeh` notebook.\n",
    "\n",
    "The key function, **`p.line()`** requires us to specify the _x_ and _y_ axis data. In our case we'll plot intensity as a function of frequency so:\n",
    "\n",
    "* Our _x_ values can be accessed using **`spectrum_df['frequency']`**\n",
    "* Our _y_ values can be accessed using **`spectrum_df['intensity']`** \n",
    "\n",
    "We'll also add the title and axis labels that **every** scientific plot needs to be meaningful!\n",
    "\n",
    "> **Note:** You'll need to complete the code in the next cell to make it work properly."
   ]
  },
  {
   "cell_type": "code",
   "execution_count": null,
   "metadata": {},
   "outputs": [],
   "source": [
    "output_notebook() # This just makes sure the ouput appears here, in the notebook\n",
    "p = figure(title = \"Put your Title here\", \n",
    "          x_axis_label='Frequency (Hz)', \n",
    "          y_axis_label='Intensity')\n",
    "# Now complete the next line given the information given just above\n",
    "p.line(\n",
    "    # fill in the x values here,\n",
    "    # fill in the y values here\n",
    ")\n",
    "show(p)"
   ]
  },
  {
   "cell_type": "markdown",
   "metadata": {},
   "source": [
    "\n",
    "### Step 3b - A plot with added inspection tools\n",
    "\n",
    "This previous example is adequate and works well with Jupyter notebooks. However, by adding some _Bokeh_ tools - in particular the `HoverTool` - you wil be able to get much more out of your inspection.\n",
    "\n",
    "Section 3 of the `UsingBokeh` notebook explains the code we demonstrate in this example. In fact, you can just insert a call to the **`add_tools()`** function into the code from the previous example. Try adding the `HoverTool`, as that is what would be really useful.\n",
    "\n",
    "> **Note:** You'll need to complete the code in the next cell to make it work properly.\n",
    "\n",
    "> If you want to, you can save a PNG image of the plot using the _Bokeh_ sidebar."
   ]
  },
  {
   "cell_type": "code",
   "execution_count": null,
   "metadata": {},
   "outputs": [],
   "source": [
    "output_notebook() \n",
    "p = figure(title = \"With HoverTool\")\n",
    "# Now complete the next line given the information given just above\n",
    "p.line(\n",
    "    # fill in the x values here,\n",
    "    # fill in the y values here\n",
    ")\n",
    "\n",
    "#\n",
    "# Write code to add the HoverTool here...\n",
    "#\n",
    "\n",
    "show(p)"
   ]
  },
  {
   "cell_type": "code",
   "execution_count": null,
   "metadata": {},
   "outputs": [],
   "source": []
  }
 ],
 "metadata": {
  "kernelspec": {
   "display_name": "Python 3",
   "language": "python",
   "name": "python3"
  },
  "language_info": {
   "codemirror_mode": {
    "name": "ipython",
    "version": 3
   },
   "file_extension": ".py",
   "mimetype": "text/x-python",
   "name": "python",
   "nbconvert_exporter": "python",
   "pygments_lexer": "ipython3",
   "version": "3.7.4"
  }
 },
 "nbformat": 4,
 "nbformat_minor": 4
}
