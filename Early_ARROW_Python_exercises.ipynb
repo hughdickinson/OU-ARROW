{
 "cells": [
  {
   "cell_type": "markdown",
   "metadata": {},
   "source": [
    "# Early ARROW Python exercises\n",
    "\n",
    "This notebook provides some basic example solutions for the early _Python_ excercises for ARROW.\n",
    "\n",
    "As you read through the notebook and try running the code cells, it is important to remember these are minimal solutions which make no attempt to check input data for errors. For example, what happens if you input `twenty one` instead of `21` when prompted for a floating point number? You might enjoy trying to modify these examples to make them more robust.\n",
    "\n",
    "When it comes to scientific programming there will often be more than one way to compute the same result or make the same plot. So, for many examples there is no unique \"right\" answer. If your solution gives the correct result that's right enough! \n"
   ]
  },
  {
   "cell_type": "markdown",
   "metadata": {},
   "source": [
    "##  Section 3.2\n",
    "### Activity 3.1 - Wavelength-frequency conversion using Python\n",
    "\n",
    "1. Write a short _Python_ program to ask the user to input a wavelength in cm and output the frequency. Define any physical constants as variables.\n",
    "\n",
    "#### Example solution"
   ]
  },
  {
   "cell_type": "code",
   "execution_count": null,
   "metadata": {},
   "outputs": [],
   "source": [
    "C = 2.9979e8 #m/s\n",
    "wavelength = float(input('Enter a wavelength in cm '))\n",
    "wavelength_m = wavelength/100 #wavelength in m\n",
    "print('Frequency is: ', C/wavelength_m, 'Hz')"
   ]
  },
  {
   "cell_type": "markdown",
   "metadata": {},
   "source": [
    "2. Update your program to display the output using scientific notation to 4 decimal places.\n",
    "\n",
    "#### Example solution\n",
    "Our solution uses _Python_ `f` strings but you might have used **`format()`** statements."
   ]
  },
  {
   "cell_type": "code",
   "execution_count": null,
   "metadata": {},
   "outputs": [],
   "source": [
    "C = 2.9979e8 #m/s\n",
    "wavelength = float(input('Enter a wavelength in cm '))\n",
    "wavelength_m = wavelength/100 #wavelength in m\n",
    "freq = C/wavelength_m\n",
    "print(f'Frequency is: {freq:.4e} Hz')"
   ]
  },
  {
   "cell_type": "markdown",
   "metadata": {},
   "source": [
    "3. Extend this so that it allows the user to repeat the conversions until no longer required.\n",
    "\n",
    "#### Example solution\n",
    "We embed our old code inside a loop so that the user can repeat the conversion. Note how we have chosen to \"_break out_\" of the loop when the user enters a negative number. How else could you do this?"
   ]
  },
  {
   "cell_type": "code",
   "execution_count": null,
   "metadata": {},
   "outputs": [],
   "source": [
    "C = 2.9979e8 #m/s\n",
    "wavelength=-1 # Reset to avoid conflicting with previous Cells\n",
    "wavelength = float(input('Enter a wavelength in cm '))\n",
    "count=0\n",
    "while wavelength >= 0:\n",
    "    count +=1\n",
    "    wavelength_m = wavelength/100 #wavelength in m\n",
    "    freq = C/wavelength_m\n",
    "    print(f'Frequency is: {freq:.4e} Hz')\n",
    "    wavelength = float(input('Enter a wavelength in cm (enter a negative number to exit) '))\n",
    "print(f'Thanks. You asked for {count} conversions.')"
   ]
  },
  {
   "cell_type": "markdown",
   "metadata": {},
   "source": [
    "## Section 3.3\n",
    "### Activity 3.2 - The Doppler shift using _Python_ \n",
    "\n",
    "1. Write a function that takes a frequency shift (or _NumPy_ `array` or _Pandas_ `Series` of frequency shifts) and a rest frequency and uses the formula for the Doppler effect to compute and return the corresponding radial velocities."
   ]
  },
  {
   "cell_type": "markdown",
   "metadata": {},
   "source": [
    "2. Optionally, using information from the `UsingAstropy` notebook, use constant values defined within the `astropy.constants` module. Also, try and use the `astropy.units` to return the result in km/s."
   ]
  },
  {
   "cell_type": "markdown",
   "metadata": {},
   "source": [
    "3. Write a short program to test your function."
   ]
  },
  {
   "cell_type": "markdown",
   "metadata": {},
   "source": [
    "#### Example solution"
   ]
  },
  {
   "cell_type": "code",
   "execution_count": null,
   "metadata": {},
   "outputs": [],
   "source": [
    "## Parts 1 and 2\n",
    "import numpy as np\n",
    "\n",
    "def freq_to_vel(freq, f0=1420.4e6):\n",
    "    ''' Takes a frequency shift value (or Pandas dataframe Series or Numpy array) and returns\n",
    "    a velocity value (or new dataframe column of values). f0 is the rest\n",
    "    frequency and defaults to 1420.4 MHz'''\n",
    "    \n",
    "    from astropy import constants as const\n",
    "    from astropy import units as u\n",
    "  \n",
    "    # We need a value for 'c' - speed of light. Either just do it here or, neatly, use the \n",
    "    # astropy 'constants'\n",
    "    \n",
    "    # c = 299792458.0  #m/s\n",
    "    c = const.c\n",
    "    v = -c*(freq)/(freq+f0)\n",
    "    return v.to(u.km/u.s)  #(km/s)\n",
    "\n",
    "## Part 3\n",
    "freqs = np.array([-800000, -400000, 0, 200000, 600000])\n",
    "vels = freq_to_vel(freqs)\n",
    "print(\"Radial velocities are:\")\n",
    "for fs in vels:\n",
    "    print( f\"{fs:.1f}\")"
   ]
  },
  {
   "cell_type": "markdown",
   "metadata": {},
   "source": [
    "## Section 3.4\n",
    "### Activity 3.3 - Beam width using _Python_ \n",
    "\n",
    "1. Write a short _Python_ program to ask for the diameter of a radio telescope dish in metres and the observed wavelength in cm. "
   ]
  },
  {
   "cell_type": "markdown",
   "metadata": {},
   "source": [
    "#### Example solution"
   ]
  },
  {
   "cell_type": "code",
   "execution_count": null,
   "metadata": {},
   "outputs": [],
   "source": [
    "d = float(input('Enter dish diameter in m '))\n",
    "wvl = float(input('Enter observed wavelength in cm '))\n",
    "bw = (1.22*wvl/100)/d\n",
    "print(f'Beamwidth is {bw:.4} radians, which is, {bw*180/3.14159:.2} degrees')"
   ]
  },
  {
   "cell_type": "markdown",
   "metadata": {},
   "source": [
    "2. Print out the beam width in radians and also in degrees."
   ]
  },
  {
   "cell_type": "markdown",
   "metadata": {},
   "source": [
    "#### Example solution\n",
    "For future reference, there are functions in the **`math`** module and the **`numpy`** package that will compute the radian-degree conversions. It's always worth looking for these convenience functions as they are easy to use and fully tested."
   ]
  },
  {
   "cell_type": "code",
   "execution_count": null,
   "metadata": {},
   "outputs": [],
   "source": [
    "import numpy as np\n",
    "import math as mt\n",
    "\n",
    "d = float(input('Enter dish diameter in m '))\n",
    "wvl = float(input('Enter observed wavelength in cm '))\n",
    "bw = (1.22*wvl/100)/d\n",
    "\n",
    "print(f'Beamwidth (math conversion) is {bw:.4} radians, which is, {mt.degrees(bw):.2} degrees')\n",
    "print(f'Beamwidth (numPy conversion) is {bw:.4} radians, which is, {np.degrees(bw):.2} degrees')"
   ]
  },
  {
   "cell_type": "code",
   "execution_count": null,
   "metadata": {},
   "outputs": [],
   "source": []
  }
 ],
 "metadata": {
  "kernelspec": {
   "display_name": "Python 3",
   "language": "python",
   "name": "python3"
  },
  "language_info": {
   "codemirror_mode": {
    "name": "ipython",
    "version": 3
   },
   "file_extension": ".py",
   "mimetype": "text/x-python",
   "name": "python",
   "nbconvert_exporter": "python",
   "pygments_lexer": "ipython3",
   "version": "3.7.4"
  }
 },
 "nbformat": 4,
 "nbformat_minor": 4
}
